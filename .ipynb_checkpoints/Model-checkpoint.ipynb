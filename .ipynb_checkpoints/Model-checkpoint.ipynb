{
 "cells": [
  {
   "cell_type": "code",
   "execution_count": 2,
   "metadata": {},
   "outputs": [],
   "source": [
    "#import dependencies\n",
    "import tensorflow as tf\n",
    "import numpy as np\n",
    "import pandas as pd\n",
    "import matplotlib.pyplot as plt\n",
    "from IPython import display\n",
    "from sklearn.model_selection import train_test_split\n",
    "import pickle\n",
    "%matplotlib inline"
   ]
  },
  {
   "cell_type": "code",
   "execution_count": 5,
   "metadata": {},
   "outputs": [],
   "source": [
    "# load the data\n",
    "def unpickle(file):\n",
    "    with open(file, 'rb') as fo:\n",
    "        dict = pickle.load(fo, encoding='bytes')\n",
    "    return dict\n",
    "\n",
    "data1 = unpickle(\"./input/data_batch_1\")\n",
    "data2 = unpickle(\"./input/data_batch_2\")\n",
    "data3 = unpickle(\"./input/data_batch_3\")\n",
    "data4 = unpickle(\"./input/data_batch_4\")\n",
    "data5 = unpickle(\"./input/data_batch_5\")\n",
    "label_data = unpickle('./input/batches.meta')[b'label_names']\n",
    "\n",
    "labels1 = data1[b'labels']\n",
    "data1 = data1[b'data'] * 1.0\n",
    "labels2 = data2[b'labels']\n",
    "data2 = data2[b'data'] * 1.0\n",
    "labels3 = data3[b'labels']\n",
    "data3 = data3[b'data'] * 1.0\n",
    "labels4 = data4[b'labels']\n",
    "data4 = data4[b'data']  * 1.0\n",
    "labels5 = data5[b'labels']\n",
    "data5 = data5[b'data']  * 1.0"
   ]
  },
  {
   "cell_type": "code",
   "execution_count": 6,
   "metadata": {},
   "outputs": [],
   "source": [
    "# Combine the remaining four arrays to use as training data\n",
    "X_tr = np.concatenate([data1, data2, data3, data4, data5], axis=0)\n",
    "X_tr = np.dstack((X_tr[:, :1024], X_tr[:, 1024:2048], X_tr[:, 2048:])) / 1.0\n",
    "X_tr = (X_tr - 128) / 255.0\n",
    "X_tr = X_tr.reshape(-1, 32, 32, 3)\n",
    "\n",
    "y_tr = np.concatenate([labels1, labels2, labels3, labels4, labels5], axis=0)"
   ]
  },
  {
   "cell_type": "code",
   "execution_count": 7,
   "metadata": {},
   "outputs": [
    {
     "name": "stdout",
     "output_type": "stream",
     "text": [
      "X_tr (50000, 32, 32, 3)\n",
      "y_tr (50000,)\n"
     ]
    }
   ],
   "source": [
    "# set number of classes\n",
    "num_classes = len(np.unique(y_tr))\n",
    "\n",
    "print(\"X_tr\", X_tr.shape)\n",
    "print(\"y_tr\", y_tr.shape)"
   ]
  },
  {
   "cell_type": "code",
   "execution_count": null,
   "metadata": {},
   "outputs": [],
   "source": []
  }
 ],
 "metadata": {
  "kernelspec": {
   "display_name": "Python 3",
   "language": "python",
   "name": "python3"
  },
  "language_info": {
   "codemirror_mode": {
    "name": "ipython",
    "version": 3
   },
   "file_extension": ".py",
   "mimetype": "text/x-python",
   "name": "python",
   "nbconvert_exporter": "python",
   "pygments_lexer": "ipython3",
   "version": "3.6.8"
  }
 },
 "nbformat": 4,
 "nbformat_minor": 2
}
